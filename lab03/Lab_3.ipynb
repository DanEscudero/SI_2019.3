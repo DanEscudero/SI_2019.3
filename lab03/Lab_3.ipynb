{
 "cells": [
  {
   "cell_type": "markdown",
   "metadata": {},
   "source": [
    "# Sistemas Inteligentes\n",
    "\n",
    "## Laboratório 3 - Redução de Dimensionalidade e Regressão\n",
    "\n",
    "Algoritmos de Redução de dimensionalidade:\n",
    "- Principal Component Analysis (PCA)\n",
    "- Independent Component Analysis (ICA)\n",
    "- Isometric Mapping (Isomap)\n",
    "- T-Distributed Stochastic Neighbor Embedding (TSNE)\n",
    "\n",
    "Modelos de regressão linear:\n",
    "- Least Squares\n",
    "- Ridge\n",
    "- Lasso\n",
    "- Lasso Least-angle regression (LARS)\n",
    "- RANdom SAmple Consensus (RANSAC)\n",
    "- Theil-Sen"
   ]
  },
  {
   "cell_type": "markdown",
   "metadata": {},
   "source": [
    "### Identificação do Aluno"
   ]
  },
  {
   "cell_type": "markdown",
   "metadata": {},
   "source": [
    "#### Nome Completo"
   ]
  },
  {
   "cell_type": "markdown",
   "metadata": {},
   "source": [
    "Daniel Escudero"
   ]
  },
  {
   "cell_type": "markdown",
   "metadata": {},
   "source": [
    "#### RA"
   ]
  },
  {
   "cell_type": "markdown",
   "metadata": {},
   "source": [
    "11005716"
   ]
  },
  {
   "cell_type": "markdown",
   "metadata": {},
   "source": [
    "## Importação e preparação dos dados"
   ]
  },
  {
   "cell_type": "markdown",
   "metadata": {},
   "source": [
    "Importe o dataset de pacientes diabéticos da biblioteca Scikit (load_diabetes) e separe os dados entre atributos (X) e saídas (y)."
   ]
  },
  {
   "cell_type": "code",
   "execution_count": 95,
   "metadata": {},
   "outputs": [],
   "source": [
    "from sklearn import datasets\n",
    "\n",
    "(x, y) = datasets.load_diabetes(return_X_y=True)"
   ]
  },
  {
   "cell_type": "markdown",
   "metadata": {},
   "source": [
    "Mostre os formatos da variável de atributos e da variável de saídas."
   ]
  },
  {
   "cell_type": "code",
   "execution_count": 96,
   "metadata": {},
   "outputs": [
    {
     "name": "stdout",
     "output_type": "stream",
     "text": [
      "(442, 10)\n"
     ]
    }
   ],
   "source": [
    "print(x.shape)"
   ]
  },
  {
   "cell_type": "code",
   "execution_count": 97,
   "metadata": {},
   "outputs": [
    {
     "name": "stdout",
     "output_type": "stream",
     "text": [
      "(442,)\n"
     ]
    }
   ],
   "source": [
    "print(y.shape)"
   ]
  },
  {
   "cell_type": "markdown",
   "metadata": {},
   "source": [
    "## Redução de Dimensionalidade"
   ]
  },
  {
   "cell_type": "markdown",
   "metadata": {},
   "source": [
    "Importe e aplique as funções de redução de dimensionalidade (PCA, FastICA, Isomap e TSNE) para reduzir a dimensionalidade a apenas uma feature."
   ]
  },
  {
   "cell_type": "code",
   "execution_count": 98,
   "metadata": {},
   "outputs": [],
   "source": [
    "from sklearn.decomposition import PCA, FastICA\n",
    "from sklearn.manifold import Isomap, TSNE\n",
    "\n",
    "# PCA #\n",
    "pca = PCA(n_components=1)\n",
    "x_pca = pca.fit_transform(x)\n",
    "\n",
    "# FastICA #\n",
    "fastICA = FastICA(n_components=1)\n",
    "x_fastICA = fastICA.fit_transform(x)\n",
    "\n",
    "# Isomap #\n",
    "isomap = Isomap(n_components=1)\n",
    "x_isomap = isomap.fit_transform(x)\n",
    "\n",
    "# TSNE #\n",
    "tsne = TSNE(n_components=1)\n",
    "x_tsne = tsne.fit_transform(x)"
   ]
  },
  {
   "cell_type": "markdown",
   "metadata": {},
   "source": [
    "Mostre o formato da nova variável de atributos após a redução de dimensionalidade para cada algoritmo."
   ]
  },
  {
   "cell_type": "code",
   "execution_count": 99,
   "metadata": {},
   "outputs": [
    {
     "name": "stdout",
     "output_type": "stream",
     "text": [
      "(442, 1)\n"
     ]
    }
   ],
   "source": [
    "print(x_pca.shape)"
   ]
  },
  {
   "cell_type": "code",
   "execution_count": 100,
   "metadata": {},
   "outputs": [
    {
     "name": "stdout",
     "output_type": "stream",
     "text": [
      "(442, 1)\n"
     ]
    }
   ],
   "source": [
    "print(x_fastICA.shape)"
   ]
  },
  {
   "cell_type": "code",
   "execution_count": 101,
   "metadata": {},
   "outputs": [
    {
     "name": "stdout",
     "output_type": "stream",
     "text": [
      "(442, 1)\n"
     ]
    }
   ],
   "source": [
    "print(x_isomap.shape)"
   ]
  },
  {
   "cell_type": "code",
   "execution_count": 102,
   "metadata": {},
   "outputs": [
    {
     "name": "stdout",
     "output_type": "stream",
     "text": [
      "(442, 1)\n"
     ]
    }
   ],
   "source": [
    "print(x_tsne.shape)"
   ]
  },
  {
   "cell_type": "markdown",
   "metadata": {},
   "source": [
    "### Caso mais simples"
   ]
  },
  {
   "cell_type": "markdown",
   "metadata": {},
   "source": [
    "Faça a separação dos dados para treinamento e teste. Reserve 20% dos dados para teste."
   ]
  },
  {
   "cell_type": "code",
   "execution_count": 103,
   "metadata": {},
   "outputs": [
    {
     "name": "stdout",
     "output_type": "stream",
     "text": [
      "(353, 1) (89, 1) (353,) (89,)\n"
     ]
    }
   ],
   "source": [
    "from sklearn import model_selection\n",
    "\n",
    "x_train, x_test, y_train, y_test = model_selection.train_test_split(x_pca, y, test_size=0.2)\n",
    "\n",
    "print(x_train.shape, x_test.shape, y_train.shape, y_test.shape)"
   ]
  },
  {
   "cell_type": "markdown",
   "metadata": {},
   "source": [
    "Importe o regressor linear e utilize-o para gerar um modelo, então faça uma regressão com os dados de teste."
   ]
  },
  {
   "cell_type": "code",
   "execution_count": 104,
   "metadata": {},
   "outputs": [],
   "source": [
    "from sklearn.linear_model import LinearRegression\n",
    "\n",
    "linear_regressor = LinearRegression()\n",
    "linear_regressor.fit(x_train, y_train)\n",
    "y_pred = linear_regressor.predict(x_test)"
   ]
  },
  {
   "cell_type": "markdown",
   "metadata": {},
   "source": [
    "Importe as funções de erro quadrático médio (MSE) e o coeficiente de determinação (R²), então imprima o MSE e o R²."
   ]
  },
  {
   "cell_type": "code",
   "execution_count": 105,
   "metadata": {},
   "outputs": [
    {
     "name": "stdout",
     "output_type": "stream",
     "text": [
      "MSE: 4084.6587117904246\n",
      "R2: 0.37163016844817576\n"
     ]
    }
   ],
   "source": [
    "from sklearn.metrics import mean_squared_error, r2_score\n",
    "\n",
    "print(\"MSE:\", mean_squared_error(y_test, y_pred))\n",
    "print(\"R2:\", r2_score(y_test, y_pred))"
   ]
  },
  {
   "cell_type": "markdown",
   "metadata": {},
   "source": [
    "Então exiba o gráfico de dispersão dos dados de teste e a curva de regressão gerada."
   ]
  },
  {
   "cell_type": "code",
   "execution_count": 106,
   "metadata": {},
   "outputs": [
    {
     "data": {
      "image/png": "[encoded data removed]",
      "text/plain": [
       "<Figure size 432x288 with 1 Axes>"
      ]
     },
     "metadata": {
      "needs_background": "light"
     },
     "output_type": "display_data"
    }
   ],
   "source": [
    "import matplotlib.pyplot as plt\n",
    "\n",
    "plt.scatter(x_test, y_test, color='red')\n",
    "plt.plot(x_test, y_pred, color='blue')\n",
    "\n",
    "plt.show()"
   ]
  },
  {
   "cell_type": "markdown",
   "metadata": {},
   "source": [
    "### Comparando Métodos de Redução de Dimensionalidade"
   ]
  },
  {
   "cell_type": "markdown",
   "metadata": {},
   "source": [
    "Agora, a fim de comparar com outras técnicas, crie um método iterativo que realize as etapas de separação dos dados entre treinamento e teste, gere um modelo de regressão linear, faça a predição com base nos dados de testes e calcule o erro quadrático médio e o coeficiente de determinação para cada iteração. Então, calcule os valores mínimo, médio, máximo e desvio padrão para cada uma dessas duas métricas. Por fim, plote os histogramas (com 100 bins) das duas métricas. Use 10000 (dez mil) iterações."
   ]
  },
  {
   "cell_type": "code",
   "execution_count": 107,
   "metadata": {},
   "outputs": [],
   "source": [
    "from statistics import mean, stdev, median\n",
    "\n",
    "\n",
    "def getPredictions(x_train, y_train, x_test):\n",
    "    linear_regressor = LinearRegression()\n",
    "    linear_regressor.fit(x_train, y_train)\n",
    "    return linear_regressor.predict(x_test)\n",
    "\n",
    "def getScores(x, y):\n",
    "    MSEs = []\n",
    "    R2s = []\n",
    "    totalIterations = 10000\n",
    "    \n",
    "    for i in range(totalIterations):\n",
    "        # Split data\n",
    "        x_train, x_test, y_train, y_test = model_selection.train_test_split(x, y, test_size=0.2)\n",
    "        \n",
    "        # Predict\n",
    "        y_pred = getPredictions(x_train, y_train, x_test)\n",
    "        \n",
    "        # Get scores\n",
    "        mse = mean_squared_error(y_test, y_pred)\n",
    "        r2 = r2_score(y_test, y_pred)\n",
    "        \n",
    "        # Save scores\n",
    "        MSEs.append(mse)\n",
    "        R2s.append(r2)\n",
    "    \n",
    "    return (MSEs, R2s)\n",
    "\n",
    "def printStatistics(values):\n",
    "    print('Mínimo        %.2f' %min(values))\n",
    "    print('Mediana       %.2f' %median(values))\n",
    "    print('Máximo        %.2f' %max(values))\n",
    "    print('Média         %.2f' %mean(values))\n",
    "    print('Desvio Padrão %.2f' %stdev(values))\n",
    "\n",
    "def plotMetrics(MSEs, R2s):\n",
    "    plt.title('MSE Scores')\n",
    "    plt.hist(MSEs,bins=100)\n",
    "    plt.show()\n",
    "    \n",
    "    plt.title('R2 Scores')\n",
    "    plt.hist(R2s,bins=100)\n",
    "    plt.show()\n",
    "\n",
    "def runTests(x, y):\n",
    "    # Run linear regressor; Get scores\n",
    "    (MSEs, R2s) = getScores(x, y)\n",
    "    \n",
    "    # Print statistics (min, max, avg, stdev)\n",
    "    print('MSE:')\n",
    "    printStatistics(MSEs)\n",
    "    \n",
    "    print('======')\n",
    "    \n",
    "    print('R2:')\n",
    "    printStatistics(R2s)\n",
    "    \n",
    "    # Plot metrics\n",
    "    plotMetrics(MSEs, R2s)    "
   ]
  },
  {
   "cell_type": "markdown",
   "metadata": {},
   "source": [
    "#### PCA"
   ]
  },
  {
   "cell_type": "code",
   "execution_count": 108,
   "metadata": {},
   "outputs": [
    {
     "name": "stdout",
     "output_type": "stream",
     "text": [
      "MSE:\n",
      "Mínimo        2589.51\n",
      "Mediana       4121.62\n",
      "Máximo        6254.97\n",
      "Média         4136.55\n",
      "Desvio Padrão 481.99\n",
      "======\n",
      "R2:\n",
      "Mínimo        -0.12\n",
      "Mediana       0.30\n",
      "Máximo        0.53\n",
      "Média         0.29\n",
      "Desvio Padrão 0.07\n"
     ]
    },
    {
     "data": {
      "image/png": "[encoded data removed]",
      "text/plain": [
       "<Figure size 432x288 with 1 Axes>"
      ]
     },
     "metadata": {
      "needs_background": "light"
     },
     "output_type": "display_data"
    },
    {
     "data": {
      "image/png": "[encoded data removed]",
      "text/plain": [
       "<Figure size 432x288 with 1 Axes>"
      ]
     },
     "metadata": {
      "needs_background": "light"
     },
     "output_type": "display_data"
    }
   ],
   "source": [
    "runTests(x_pca, y)"
   ]
  },
  {
   "cell_type": "markdown",
   "metadata": {},
   "source": [
    "#### ICA"
   ]
  },
  {
   "cell_type": "code",
   "execution_count": 109,
   "metadata": {},
   "outputs": [
    {
     "name": "stdout",
     "output_type": "stream",
     "text": [
      "MSE:\n",
      "Mínimo        2591.18\n",
      "Mediana       4137.07\n",
      "Máximo        6189.13\n",
      "Média         4148.60\n",
      "Desvio Padrão 476.71\n",
      "======\n",
      "R2:\n",
      "Mínimo        -0.13\n",
      "Mediana       0.30\n",
      "Máximo        0.51\n",
      "Média         0.29\n",
      "Desvio Padrão 0.07\n"
     ]
    },
    {
     "data": {
      "image/png": "[encoded data removed]",
      "text/plain": [
       "<Figure size 432x288 with 1 Axes>"
      ]
     },
     "metadata": {
      "needs_background": "light"
     },
     "output_type": "display_data"
    },
    {
     "data": {
      "image/png": "[encoded data removed]",
      "text/plain": [
       "<Figure size 432x288 with 1 Axes>"
      ]
     },
     "metadata": {
      "needs_background": "light"
     },
     "output_type": "display_data"
    }
   ],
   "source": [
    "runTests(x_fastICA, y)"
   ]
  },
  {
   "cell_type": "markdown",
   "metadata": {},
   "source": [
    "#### Isomap"
   ]
  },
  {
   "cell_type": "code",
   "execution_count": null,
   "metadata": {},
   "outputs": [],
   "source": [
    "runTests(x_isomap, y)"
   ]
  },
  {
   "cell_type": "markdown",
   "metadata": {},
   "source": [
    "#### TSNE"
   ]
  },
  {
   "cell_type": "code",
   "execution_count": null,
   "metadata": {},
   "outputs": [],
   "source": [
    "runTests(x_tsne, y)"
   ]
  },
  {
   "cell_type": "markdown",
   "metadata": {},
   "source": [
    "### Comparando modelos de Regressão"
   ]
  },
  {
   "cell_type": "markdown",
   "metadata": {},
   "source": [
    "Exiba o gráfico de dispersão dos dados de teste e a curva de regressão gerada em cada caso."
   ]
  },
  {
   "cell_type": "code",
   "execution_count": null,
   "metadata": {},
   "outputs": [],
   "source": [
    "from sklearn.linear_model import Ridge, Lasso, LassoLars, BayesianRidge, RANSACRegressor, TheilSenRegressor\n",
    "\n",
    "pca = PCA(n_components=1)\n",
    "x_pca = pca.fit_transform(x)\n",
    "\n",
    "x_train, x_test, y_train, y_test = model_selection.train_test_split(x_pca, y, test_size=0.2)\n",
    "\n",
    "def getPredictions (model):\n",
    "    model.fit(x_train, y_train)\n",
    "    return model.predict(x_test)\n",
    "\n",
    "def plotScatters ():\n",
    "    plt.scatter(x_test[:,0], y_test, color='red')\n",
    "\n",
    "def plot(model, label, keepSamePlot=False, color='blue'):\n",
    "    y_pred = getPredictions(model)\n",
    "    \n",
    "    plt.plot(x_test, y_pred, color=color, label=label)\n",
    "\n",
    "    if (not keepSamePlot):\n",
    "        plotScatters()\n",
    "        plt.title(label)\n",
    "        plt.show()"
   ]
  },
  {
   "cell_type": "markdown",
   "metadata": {},
   "source": [
    "#### Least Squares"
   ]
  },
  {
   "cell_type": "code",
   "execution_count": null,
   "metadata": {},
   "outputs": [],
   "source": [
    "plot(LinearRegression(), 'Least Squares')"
   ]
  },
  {
   "cell_type": "markdown",
   "metadata": {},
   "source": [
    "#### Ridge"
   ]
  },
  {
   "cell_type": "code",
   "execution_count": null,
   "metadata": {},
   "outputs": [],
   "source": [
    "plot(Ridge(), 'Ridge')"
   ]
  },
  {
   "cell_type": "markdown",
   "metadata": {},
   "source": [
    "#### Lasso"
   ]
  },
  {
   "cell_type": "code",
   "execution_count": null,
   "metadata": {},
   "outputs": [],
   "source": [
    "plot(Lasso(), 'Lasso')"
   ]
  },
  {
   "cell_type": "markdown",
   "metadata": {},
   "source": [
    "#### Lasso LARS"
   ]
  },
  {
   "cell_type": "code",
   "execution_count": null,
   "metadata": {},
   "outputs": [],
   "source": [
    "plot(LassoLars(), 'LassoLars')"
   ]
  },
  {
   "cell_type": "markdown",
   "metadata": {},
   "source": [
    "#### Bayesian Ridge"
   ]
  },
  {
   "cell_type": "code",
   "execution_count": null,
   "metadata": {},
   "outputs": [],
   "source": [
    "plot(BayesianRidge(), 'BayesianRidge')"
   ]
  },
  {
   "cell_type": "markdown",
   "metadata": {},
   "source": [
    "#### RANSAC"
   ]
  },
  {
   "cell_type": "code",
   "execution_count": null,
   "metadata": {},
   "outputs": [],
   "source": [
    "plot(RANSACRegressor(), 'RANSACRegressor')"
   ]
  },
  {
   "cell_type": "markdown",
   "metadata": {},
   "source": [
    "#### Theil-Sen"
   ]
  },
  {
   "cell_type": "code",
   "execution_count": null,
   "metadata": {},
   "outputs": [],
   "source": [
    "plot(TheilSenRegressor(), 'TheilSenRegressor')"
   ]
  },
  {
   "cell_type": "markdown",
   "metadata": {},
   "source": [
    "### Gráfico geral comparativo"
   ]
  },
  {
   "cell_type": "markdown",
   "metadata": {},
   "source": [
    "Em uma mesma figura, mostre novamente o gráfico de dispersão dos dados e plote cada um dos modelos gerados utilizando cada técnica deste laboratório. Atente-se a fazer com que o gráfico seja suficientemente autoexplicativo, então utilize diferentes cores, insira uma legenda etc."
   ]
  },
  {
   "cell_type": "code",
   "execution_count": null,
   "metadata": {},
   "outputs": [],
   "source": [
    "plt.figure(figsize=(12,12))\n",
    "\n",
    "plot(LinearRegression(), 'LinearRegressorion', True, 'blue')\n",
    "plot(Ridge(), 'Ridge', True, 'red')\n",
    "plot(Lasso(), 'Lasso', True, 'yellow')\n",
    "plot(LassoLars(), 'LassoLars', True, 'black')\n",
    "plot(BayesianRidge(), 'BayesianRidge', True, 'purple')\n",
    "plot(RANSACRegressor(), 'RANSACRegressor', True, 'gray')\n",
    "plot(TheilSenRegressor(), 'TheilSenRegressor', True, 'pink')\n",
    "\n",
    "plotScatters()\n",
    "\n",
    "plt.title('Gráfico Comparativo')\n",
    "plt.legend()\n",
    "plt.show()"
   ]
  },
  {
   "cell_type": "code",
   "execution_count": null,
   "metadata": {},
   "outputs": [],
   "source": []
  }
 ],
 "metadata": {
  "kernelspec": {
   "display_name": "Python 3",
   "language": "python",
   "name": "python3"
  },
  "language_info": {
   "codemirror_mode": {
    "name": "ipython",
    "version": 3
   },
   "file_extension": ".py",
   "mimetype": "text/x-python",
   "name": "python",
   "nbconvert_exporter": "python",
   "pygments_lexer": "ipython3",
   "version": "3.6.8"
  }
 },
 "nbformat": 4,
 "nbformat_minor": 2
}
