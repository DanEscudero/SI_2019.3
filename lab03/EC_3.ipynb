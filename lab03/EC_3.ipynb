{
 "cells": [
  {
   "cell_type": "markdown",
   "metadata": {},
   "source": [
    "# Sistemas Inteligentes\n",
    "\n",
    "## Exercício Computacional 3 - Redução de Dimensionalidade e Regressão"
   ]
  },
  {
   "cell_type": "markdown",
   "metadata": {},
   "source": [
    "### Identificação do Aluno"
   ]
  },
  {
   "cell_type": "markdown",
   "metadata": {},
   "source": [
    "#### Nome Completo"
   ]
  },
  {
   "cell_type": "markdown",
   "metadata": {},
   "source": [
    "Daniel Escudero"
   ]
  },
  {
   "cell_type": "markdown",
   "metadata": {},
   "source": [
    "#### RA"
   ]
  },
  {
   "cell_type": "markdown",
   "metadata": {},
   "source": [
    "11005716"
   ]
  },
  {
   "cell_type": "markdown",
   "metadata": {},
   "source": [
    "## Instruções"
   ]
  },
  {
   "cell_type": "markdown",
   "metadata": {},
   "source": [
    "Pesquise por datasets voltados para regressões que estejam disponíveis na biblioteca Scikit, então escolha um para este exercício.\n",
    "\n",
    "Utilize algum método de redução de dimensionalidade para realizar tal processo, então gere três modelos de regressão com diferentes métodos (um método diferente para cada modelo).\n",
    "\n",
    "Calcule e exiba métricas que ajudem a conferir a qualidade dos modelos gerados.\n",
    "\n",
    "Exiba gráficos que auxiliem na visualização dos dados e da curva de regressão.\n",
    "\n",
    "Compare os modelos e comente os resultados obtidos.\n",
    "\n",
    "Insira as referências utilizadas ao final."
   ]
  },
  {
   "cell_type": "markdown",
   "metadata": {},
   "source": [
    "## Desenvolvimento"
   ]
  },
  {
   "cell_type": "code",
   "execution_count": 18,
   "metadata": {},
   "outputs": [],
   "source": [
    "from sklearn import datasets, decomposition, model_selection, metrics, linear_model\n",
    "from matplotlib import pyplot as plt\n",
    "import statistics"
   ]
  },
  {
   "cell_type": "code",
   "execution_count": 19,
   "metadata": {},
   "outputs": [
    {
     "name": "stdout",
     "output_type": "stream",
     "text": [
      "(506, 13) (506,)\n"
     ]
    }
   ],
   "source": [
    "(x,y) = datasets.load_boston(return_X_y=True) # Ref [1]\n",
    "print(x.shape, y.shape)"
   ]
  },
  {
   "cell_type": "code",
   "execution_count": 20,
   "metadata": {},
   "outputs": [
    {
     "name": "stdout",
     "output_type": "stream",
     "text": [
      "(506, 1) (506,)\n"
     ]
    }
   ],
   "source": [
    "# Redução de dimensões (com PCA)\n",
    "pca = decomposition.PCA(n_components=1) # Ref [2]\n",
    "x_pca = pca.fit_transform(x)\n",
    "\n",
    "print(x_pca.shape, y.shape)"
   ]
  },
  {
   "cell_type": "code",
   "execution_count": 21,
   "metadata": {},
   "outputs": [],
   "source": [
    "def getModel(modelType):\n",
    "    return modelType()\n",
    "\n",
    "def getScores(y_test, y_pred):\n",
    "    mse = metrics.mean_squared_error(y_test, y_pred)\n",
    "    r2 = metrics.r2_score(y_test, y_pred)\n",
    "    return (mse, r2)\n",
    "\n",
    "def printStatistics(values):\n",
    "    print('Mínimo        %.2f' %min(values))\n",
    "    print('Mediana       %.2f' %statistics.median(values))\n",
    "    print('Máximo        %.2f' %max(values))\n",
    "    print('Média         %.2f' %statistics.mean(values))\n",
    "    print('Desvio Padrão %.2f' %statistics.stdev(values))\n",
    "    \n",
    "def testModel(modelType, modelName, keepSamePlot=False, color='blue'):\n",
    "    MSEs = []\n",
    "    R2s = []\n",
    "    totalIterations = 1000;\n",
    "    \n",
    "    for i in range(totalIterations):\n",
    "        model = getModel(modelType)\n",
    "        \n",
    "        # Split data\n",
    "        x_train, x_test, y_train, y_test = model_selection.train_test_split(x_pca, y, test_size=0.2)\n",
    "        \n",
    "        # Train and predict\n",
    "        model.fit(x_train, y_train)\n",
    "        y_pred = model.predict(x_test)\n",
    "    \n",
    "        # Save scores\n",
    "        (mse, r2) = getScores(y_test, y_pred)\n",
    "        MSEs.append(mse)\n",
    "        R2s.append(r2)\n",
    "    \n",
    "    if (keepSamePlot):        \n",
    "        plt.scatter(x_test, y_test, color='red', s=5)\n",
    "        plt.plot(x_test, y_pred, color=color, label=modelName)\n",
    "    else:\n",
    "        print('')\n",
    "        print('')\n",
    "        print('=====', modelName, '=====')\n",
    "        \n",
    "        plt.scatter(x_test, y_test, color='red', s=5)\n",
    "        plt.plot(x_test, y_pred, color=color)\n",
    "        plt.title(modelName)\n",
    "        plt.show()\n",
    "    \n",
    "        print('MSE:')\n",
    "        printStatistics(MSEs)\n",
    "        print('=====')\n",
    "        print('R2:')\n",
    "        printStatistics(R2s)"
   ]
  },
  {
   "cell_type": "code",
   "execution_count": 22,
   "metadata": {},
   "outputs": [
    {
     "name": "stdout",
     "output_type": "stream",
     "text": [
      "\n",
      "\n",
      "===== Linear Regression =====\n"
     ]
    },
    {
     "data": {
      "image/png": "[encoded data removed]",
      "text/plain": [
       "<Figure size 432x288 with 1 Axes>"
      ]
     },
     "metadata": {},
     "output_type": "display_data"
    },
    {
     "name": "stdout",
     "output_type": "stream",
     "text": [
      "MSE:\n",
      "Mínimo        31.03\n",
      "Mediana       63.67\n",
      "Máximo        117.99\n",
      "Média         64.93\n",
      "Desvio Padrão 13.72\n",
      "=====\n",
      "R2:\n",
      "Mínimo        -0.10\n",
      "Mediana       0.23\n",
      "Máximo        0.42\n",
      "Média         0.22\n",
      "Desvio Padrão 0.08\n",
      "\n",
      "\n",
      "===== Ridge =====\n"
     ]
    },
    {
     "data": {
      "image/png": "[encoded data removed]",
      "text/plain": [
       "<Figure size 432x288 with 1 Axes>"
      ]
     },
     "metadata": {},
     "output_type": "display_data"
    },
    {
     "name": "stdout",
     "output_type": "stream",
     "text": [
      "MSE:\n",
      "Mínimo        24.99\n",
      "Mediana       64.35\n",
      "Máximo        116.40\n",
      "Média         65.17\n",
      "Desvio Padrão 14.03\n",
      "=====\n",
      "R2:\n",
      "Mínimo        -0.04\n",
      "Mediana       0.24\n",
      "Máximo        0.40\n",
      "Média         0.23\n",
      "Desvio Padrão 0.08\n",
      "\n",
      "\n",
      "===== Lasso =====\n"
     ]
    },
    {
     "data": {
      "image/png": "[encoded data removed]",
      "text/plain": [
       "<Figure size 432x288 with 1 Axes>"
      ]
     },
     "metadata": {},
     "output_type": "display_data"
    },
    {
     "name": "stdout",
     "output_type": "stream",
     "text": [
      "MSE:\n",
      "Mínimo        34.80\n",
      "Mediana       64.37\n",
      "Máximo        117.67\n",
      "Média         64.93\n",
      "Desvio Padrão 13.25\n",
      "=====\n",
      "R2:\n",
      "Mínimo        -0.02\n",
      "Mediana       0.23\n",
      "Máximo        0.45\n",
      "Média         0.23\n",
      "Desvio Padrão 0.08\n"
     ]
    }
   ],
   "source": [
    "testModel(linear_model.LinearRegression, 'Linear Regression') # Ref [3]\n",
    "testModel(linear_model.Ridge, 'Ridge')\n",
    "testModel(linear_model.Lasso, 'Lasso')"
   ]
  },
  {
   "cell_type": "code",
   "execution_count": 23,
   "metadata": {},
   "outputs": [
    {
     "data": {
      "image/png": "[encoded data removed]",
      "text/plain": [
       "<Figure size 864x864 with 1 Axes>"
      ]
     },
     "metadata": {},
     "output_type": "display_data"
    }
   ],
   "source": [
    "plt.figure(figsize=(12,12)) # Ref [4]\n",
    "\n",
    "testModel(linear_model.LinearRegression, 'Linear Regression', True, 'blue')\n",
    "testModel(linear_model.Ridge, 'Ridge', True, 'purple')\n",
    "testModel(linear_model.Lasso, 'Lasso', True, 'green')\n",
    "\n",
    "plt.title('Gráfico Comparativo')\n",
    "plt.legend()\n",
    "plt.show()"
   ]
  },
  {
   "cell_type": "markdown",
   "metadata": {},
   "source": [
    "### Referências\n",
    "- [1] https://scikit-learn.org/stable/modules/classes.html#module-sklearn.datasets\n",
    "- [2] https://scikit-learn.org/stable/modules/generated/sklearn.decomposition.PCA.html#sklearn.decomposition.PCA\n",
    "- [3] https://scikit-learn.org/stable/modules/classes.html#module-sklearn.linear_model\n",
    "- [4] https://stackoverflow.com/questions/332289/how-do-you-change-the-size-of-figures-drawn-with-matplotlib"
   ]
  }
 ],
 "metadata": {
  "kernelspec": {
   "display_name": "Python 3",
   "language": "python",
   "name": "python3"
  },
  "language_info": {
   "codemirror_mode": {
    "name": "ipython",
    "version": 3
   },
   "file_extension": ".py",
   "mimetype": "text/x-python",
   "name": "python",
   "nbconvert_exporter": "python",
   "pygments_lexer": "ipython3",
   "version": "3.6.8"
  }
 },
 "nbformat": 4,
 "nbformat_minor": 2
}
