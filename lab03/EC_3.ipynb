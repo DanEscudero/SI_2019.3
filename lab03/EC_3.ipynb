{
 "cells": [
  {
   "cell_type": "markdown",
   "metadata": {},
   "source": [
    "# Sistemas Inteligentes\n",
    "\n",
    "## Exercício Computacional 3 - Redução de Dimensionalidade e Regressão"
   ]
  },
  {
   "cell_type": "markdown",
   "metadata": {},
   "source": [
    "### Identificação do Aluno"
   ]
  },
  {
   "cell_type": "markdown",
   "metadata": {},
   "source": [
    "#### Nome Completo"
   ]
  },
  {
   "cell_type": "markdown",
   "metadata": {},
   "source": [
    "Daniel Escudero"
   ]
  },
  {
   "cell_type": "markdown",
   "metadata": {},
   "source": [
    "#### RA"
   ]
  },
  {
   "cell_type": "markdown",
   "metadata": {},
   "source": [
    "11005716"
   ]
  },
  {
   "cell_type": "markdown",
   "metadata": {},
   "source": [
    "## Instruções"
   ]
  },
  {
   "cell_type": "markdown",
   "metadata": {},
   "source": [
    "Pesquise por datasets voltados para regressões que estejam disponíveis na biblioteca Scikit, então escolha um para este exercício.\n",
    "\n",
    "Utilize algum método de redução de dimensionalidade para realizar tal processo, então gere três modelos de regressão com diferentes métodos (um método diferente para cada modelo).\n",
    "\n",
    "Calcule e exiba métricas que ajudem a conferir a qualidade dos modelos gerados.\n",
    "\n",
    "Exiba gráficos que auxiliem na visualização dos dados e da curva de regressão.\n",
    "\n",
    "Compare os modelos e comente os resultados obtidos.\n",
    "\n",
    "Insira as referências utilizadas ao final."
   ]
  },
  {
   "cell_type": "markdown",
   "metadata": {},
   "source": [
    "## Desenvolvimento"
   ]
  },
  {
   "cell_type": "code",
   "execution_count": 34,
   "metadata": {
    "collapsed": true
   },
   "outputs": [],
   "source": [
    "from sklearn import datasets, decomposition, model_selection, metrics, linear_model\n",
    "from matplotlib import pyplot as plt\n",
    "import statistics"
   ]
  },
  {
   "cell_type": "code",
   "execution_count": 43,
   "metadata": {},
   "outputs": [
    {
     "name": "stdout",
     "output_type": "stream",
     "text": [
      "(506, 13) (506,)\n"
     ]
    }
   ],
   "source": [
    "(x,y) = datasets.load_boston(return_X_y=True) # Ref [1]\n",
    "print(x.shape, y.shape)"
   ]
  },
  {
   "cell_type": "code",
   "execution_count": 79,
   "metadata": {},
   "outputs": [
    {
     "name": "stdout",
     "output_type": "stream",
     "text": [
      "(506, 1) (506,)\n"
     ]
    }
   ],
   "source": [
    "# Redução de dimensões (com PCA)\n",
    "FastICA = decomposition.FastICA(n_components=1) # Ref [2]\n",
    "x_pca = pca.fit_transform(x)\n",
    "\n",
    "print(x_pca.shape, y.shape)"
   ]
  },
  {
   "cell_type": "code",
   "execution_count": 80,
   "metadata": {
    "collapsed": true
   },
   "outputs": [],
   "source": [
    "def getModel(modelType):\n",
    "    return modelType()\n",
    "\n",
    "def getScores(y_test, y_pred):\n",
    "    mse = metrics.mean_squared_error(y_test, y_pred)\n",
    "    r2 = metrics.r2_score(y_test, y_pred)\n",
    "    return (mse, r2)\n",
    "\n",
    "def printStatistics(values):\n",
    "    print('Mínimo        %.2f' %min(values))\n",
    "    print('Mediana       %.2f' %statistics.median(values))\n",
    "    print('Máximo        %.2f' %max(values))\n",
    "    print('Média         %.2f' %statistics.mean(values))\n",
    "    print('Desvio Padrão %.2f' %statistics.stdev(values))\n",
    "    \n",
    "def testModel(modelType, modelName, keepSamePlot=False, color='blue'):\n",
    "    MSEs = []\n",
    "    R2s = []\n",
    "    totalIterations = 1000;\n",
    "    \n",
    "    for i in range(totalIterations):\n",
    "        model = getModel(modelType)\n",
    "        \n",
    "        # Split data\n",
    "        x_train, x_test, y_train, y_test = model_selection.train_test_split(x_pca, y, test_size=0.2)\n",
    "        \n",
    "        # Train and predict\n",
    "        model.fit(x_train, y_train)\n",
    "        y_pred = model.predict(x_test)\n",
    "    \n",
    "        # Save scores\n",
    "        (mse, r2) = getScores(y_test, y_pred)\n",
    "        MSEs.append(mse)\n",
    "        R2s.append(r2)\n",
    "    \n",
    "    if (keepSamePlot):        \n",
    "        plt.scatter(x_test, y_test, color='red', s=5)\n",
    "        plt.plot(x_test, y_pred, color=color, label=modelName)\n",
    "    else:\n",
    "        print('')\n",
    "        print('')\n",
    "        print('=====', modelName, '=====')\n",
    "        \n",
    "        plt.scatter(x_test, y_test, color='red', s=5)\n",
    "        plt.plot(x_test, y_pred, color=color)\n",
    "        plt.title(modelName)\n",
    "        plt.show()\n",
    "    \n",
    "        print('MSE:')\n",
    "        printStatistics(MSEs)\n",
    "        print('=====')\n",
    "        print('R2:')\n",
    "        printStatistics(R2s)"
   ]
  },
  {
   "cell_type": "code",
   "execution_count": 81,
   "metadata": {},
   "outputs": [
    {
     "name": "stdout",
     "output_type": "stream",
     "text": [
      "\n",
      "\n",
      "===== Linear Regression =====\n"
     ]
    },
    {
     "data": {
      "image/png": "[encoded data removed]",
      "text/plain": [
       "<Figure size 432x288 with 1 Axes>"
      ]
     },
     "metadata": {
      "needs_background": "light"
     },
     "output_type": "display_data"
    },
    {
     "name": "stdout",
     "output_type": "stream",
     "text": [
      "MSE:\n",
      "Mínimo        26.35\n",
      "Mediana       63.45\n",
      "Máximo        114.11\n",
      "Média         64.72\n",
      "Desvio Padrão 14.10\n",
      "=====\n",
      "R2:\n",
      "Mínimo        -0.06\n",
      "Mediana       0.24\n",
      "Máximo        0.45\n",
      "Média         0.23\n",
      "Desvio Padrão 0.08\n",
      "\n",
      "\n",
      "===== Ridge =====\n"
     ]
    },
    {
     "data": {
      "image/png": "[encoded data removed]",
      "text/plain": [
       "<Figure size 432x288 with 1 Axes>"
      ]
     },
     "metadata": {
      "needs_background": "light"
     },
     "output_type": "display_data"
    },
    {
     "name": "stdout",
     "output_type": "stream",
     "text": [
      "MSE:\n",
      "Mínimo        29.93\n",
      "Mediana       70.39\n",
      "Máximo        119.51\n",
      "Média         70.56\n",
      "Desvio Padrão 13.39\n",
      "=====\n",
      "R2:\n",
      "Mínimo        0.01\n",
      "Mediana       0.16\n",
      "Máximo        0.28\n",
      "Média         0.16\n",
      "Desvio Padrão 0.04\n",
      "\n",
      "\n",
      "===== Lasso =====\n"
     ]
    },
    {
     "data": {
      "image/png": "[encoded data removed]",
      "text/plain": [
       "<Figure size 432x288 with 1 Axes>"
      ]
     },
     "metadata": {
      "needs_background": "light"
     },
     "output_type": "display_data"
    },
    {
     "name": "stdout",
     "output_type": "stream",
     "text": [
      "MSE:\n",
      "Mínimo        48.49\n",
      "Mediana       85.38\n",
      "Máximo        139.56\n",
      "Média         85.47\n",
      "Desvio Padrão 14.56\n",
      "=====\n",
      "R2:\n",
      "Mínimo        -0.20\n",
      "Mediana       -0.01\n",
      "Máximo        -0.00\n",
      "Média         -0.01\n",
      "Desvio Padrão 0.02\n"
     ]
    }
   ],
   "source": [
    "testModel(linear_model.LinearRegression, 'Linear Regression') # Ref [3]\n",
    "testModel(linear_model.Ridge, 'Ridge')\n",
    "testModel(linear_model.Lasso, 'Lasso')"
   ]
  },
  {
   "cell_type": "code",
   "execution_count": 82,
   "metadata": {},
   "outputs": [
    {
     "data": {
      "image/png": "[encoded data removed]",
      "text/plain": [
       "<Figure size 864x864 with 1 Axes>"
      ]
     },
     "metadata": {
      "needs_background": "light"
     },
     "output_type": "display_data"
    }
   ],
   "source": [
    "plt.figure(figsize=(12,12)) # Ref [4]\n",
    "\n",
    "testModel(linear_model.LinearRegression, 'Linear Regression', True, 'blue')\n",
    "testModel(linear_model.Ridge, 'Ridge', True, 'purple')\n",
    "testModel(linear_model.Lasso, 'Lasso', True, 'green')\n",
    "\n",
    "plt.title('Gráfico Comparativo')\n",
    "plt.legend()\n",
    "plt.show()"
   ]
  },
  {
   "cell_type": "markdown",
   "metadata": {},
   "source": [
    "### Referências\n",
    "- [1] https://scikit-learn.org/stable/modules/classes.html#module-sklearn.datasets\n",
    "- [2] https://scikit-learn.org/stable/modules/generated/sklearn.decomposition.PCA.html#sklearn.decomposition.PCA\n",
    "- [3] https://scikit-learn.org/stable/modules/classes.html#module-sklearn.linear_model\n",
    "- [4] https://stackoverflow.com/questions/332289/how-do-you-change-the-size-of-figures-drawn-with-matplotlib"
   ]
  }
 ],
 "metadata": {
  "kernelspec": {
   "display_name": "Python 3",
   "language": "python",
   "name": "python3"
  },
  "language_info": {
   "codemirror_mode": {
    "name": "ipython",
    "version": 3
   },
   "file_extension": ".py",
   "mimetype": "text/x-python",
   "name": "python",
   "nbconvert_exporter": "python",
   "pygments_lexer": "ipython3",
   "version": "3.6.8"
  }
 },
 "nbformat": 4,
 "nbformat_minor": 2
}
