{
 "cells": [
  {
   "cell_type": "markdown",
   "metadata": {},
   "source": [
    "# Sistemas Inteligentes\n",
    "\n",
    "## Exercício Computacional 2 - Classificação\n",
    "\n",
    "Preencha todas as células adequadamente e responda todas as perguntas de forma completa e elaborada."
   ]
  },
  {
   "cell_type": "markdown",
   "metadata": {},
   "source": [
    "### Identificação do Aluno"
   ]
  },
  {
   "cell_type": "markdown",
   "metadata": {},
   "source": [
    "#### Nome Completo"
   ]
  },
  {
   "cell_type": "markdown",
   "metadata": {},
   "source": [
    "Daniel Escudero"
   ]
  },
  {
   "cell_type": "markdown",
   "metadata": {},
   "source": [
    "#### RA"
   ]
  },
  {
   "cell_type": "markdown",
   "metadata": {},
   "source": [
    "11005716"
   ]
  },
  {
   "cell_type": "markdown",
   "metadata": {},
   "source": [
    "### Instruções\n",
    "\n",
    "Treine e teste um classificador à sua escolha utilizando a base de dados **Olivetti Faces** (veja as referências).\n",
    "\n",
    "Faça um caso com com *k-Fold* e um caso de forma direta, ou seja, utilizando o *train_test_split*.\n",
    "\n",
    "Exiba a acurácia e a *Confusion Matrix*, então discuta sobre o desempenho do classificador para os dois casos.\n",
    "\n",
    "Entre as células de códigos, insira células de tipo *Markdown* para fornecer explicações sobre os passos realizados; não insira apenas códigos \"soltos\" sem explicação.\n",
    "\n",
    "Dica: desta vez, estamos lidando com uma quantidade relativamente grande de classes, então pode ser interessante exibir a *Confusion Matrix* utilizando escala de cinza para representar os valores de cada célula da matriz; para fazer isso, prefira utilizar a função **imshow** com o mapa de cores (argumento **cmap**) do tipo **'Greys'**.\n",
    "\n",
    "**EXTRA**: tente fazer um caso com *Bootstrap* em vez de *k-Fold*, então comente sobre o método e os resultados."
   ]
  },
  {
   "cell_type": "markdown",
   "metadata": {},
   "source": [
    "## Desenvolvimento"
   ]
  },
  {
   "cell_type": "code",
   "execution_count": 45,
   "metadata": {},
   "outputs": [],
   "source": [
    "# imports\n",
    "import statistics\n",
    "import numpy as np\n",
    "import matplotlib.pyplot as plt\n",
    "from sklearn.metrics import accuracy_score, confusion_matrix\n",
    "from sklearn.neural_network import MLPClassifier\n",
    "from sklearn.datasets import fetch_olivetti_faces\n",
    "from sklearn.model_selection import train_test_split, KFold"
   ]
  },
  {
   "cell_type": "markdown",
   "metadata": {},
   "source": [
    "### Funções utilitarias:\n",
    "\n",
    "- `getRawModel` retorna uma rede neural com parametros pre-definidos. A fçag warm_start é passada como parâmetro, pois essa flag é desejada para o modelo do KFold, e não é desejada para o modelo do treino direto.\n",
    "- `extractDataFromIndexes` recebe uma lista de valores e uma lista de indices, e retorna uma lista com os valores nesses indices"
   ]
  },
  {
   "cell_type": "code",
   "execution_count": 35,
   "metadata": {},
   "outputs": [],
   "source": [
    "# Funções utilitarias\n",
    "def getRawModel(warm_start):\n",
    "    return MLPClassifier(hidden_layer_sizes=(300), warm_start=warm_start)\n",
    "\n",
    "def extractDataFromIndexes (data, indexes):\n",
    "    return list(map(lambda i: data[i], indexes))\n",
    "\n",
    "def getAccuracy (model, testX, testY):\n",
    "    predictedData = model.predict(testX)\n",
    "    return accuracy_score(testY, predictedData)\n",
    "\n",
    "def getConfusionMatrix (model, testX, testY):\n",
    "    predictedData = model.predict(testX)\n",
    "    return confusion_matrix(testY, predictedData)"
   ]
  },
  {
   "cell_type": "markdown",
   "metadata": {},
   "source": [
    "### Preparação de dados:\n",
    "- Extração dos dados do sklearn;\n",
    "- Reshaping das imagens;\n",
    "- Divisao em dados de treino e dados de teste (25% para teste);"
   ]
  },
  {
   "cell_type": "code",
   "execution_count": 36,
   "metadata": {},
   "outputs": [],
   "source": [
    "# Preparação de dados\n",
    "rawData = fetch_olivetti_faces()\n",
    "\n",
    "x = rawData.images\n",
    "y = rawData.target\n",
    "x = x.reshape(len(x), 64 * 64)"
   ]
  },
  {
   "cell_type": "markdown",
   "metadata": {},
   "source": [
    "### Classificador treinado de forma direta:\n",
    "- Separação dos dados em com `train_test_split`\n",
    "- Criação do modelo (rede neural com parametros pre-definidos na funcao utilitaria `getRawModel`, com warm_start False)\n",
    "- Treino do modelo"
   ]
  },
  {
   "cell_type": "code",
   "execution_count": 37,
   "metadata": {},
   "outputs": [
    {
     "name": "stderr",
     "output_type": "stream",
     "text": [
      "/usr/local/lib/python3.6/dist-packages/sklearn/neural_network/multilayer_perceptron.py:566: ConvergenceWarning: Stochastic Optimizer: Maximum iterations (200) reached and the optimization hasn't converged yet.\n",
      "  % self.max_iter, ConvergenceWarning)\n"
     ]
    }
   ],
   "source": [
    "# Treino do classificador\n",
    "\n",
    "x_train, x_test, y_train, y_test = train_test_split(x, y, test_size=0.25)\n",
    "direct_model = getRawModel(False)\n",
    "direct_model.fit(x_train, y_train)\n",
    "direct_model_accuracy = getAccuracy(direct_model, x_test, y_test)\n",
    "direct_model_confusion = getConfusionMatrix(direct_model, x_test, y_test)"
   ]
  },
  {
   "cell_type": "markdown",
   "metadata": {},
   "source": [
    "### Classifiador treinado com kfold:\n",
    "\n",
    "- Cria um novo modelo (com warm_start True)\n",
    "- Separa os dados com `KFold`\n",
    "- Chama a funcao `fit`\n",
    "- Determina a acurácia do modelo treinado\n",
    "- Mantem um array de acuracias, e tira a média delas"
   ]
  },
  {
   "cell_type": "code",
   "execution_count": 39,
   "metadata": {},
   "outputs": [
    {
     "name": "stderr",
     "output_type": "stream",
     "text": [
      "/usr/local/lib/python3.6/dist-packages/sklearn/neural_network/multilayer_perceptron.py:566: ConvergenceWarning: Stochastic Optimizer: Maximum iterations (200) reached and the optimization hasn't converged yet.\n",
      "  % self.max_iter, ConvergenceWarning)\n"
     ]
    }
   ],
   "source": [
    "model_kfold = getRawModel(True)\n",
    "kfold = KFold(n_splits=5, shuffle=True)\n",
    "\n",
    "accuracies = []\n",
    "# Divide dados de teste\n",
    "for train, test in kfold.split(x):\n",
    "    x_train = extractDataFromIndexes(x, train)\n",
    "    x_test = extractDataFromIndexes(x, test)\n",
    "    y_train = extractDataFromIndexes(y, train)\n",
    "    y_test = extractDataFromIndexes(y, test)\n",
    "    \n",
    "    model_kfold.fit(x_train, y_train)\n",
    "    accuracy = getAccuracy(model_kfold, x_test, y_test)\n",
    "    accuracies.append(accuracy)\n",
    "    \n",
    "    kfold_model_confusion = getConfusionMatrix(model_kfold, x_test, y_test)\n",
    "\n",
    "kfold_model_accuracy = statistics.mean(accuracies)"
   ]
  },
  {
   "cell_type": "code",
   "execution_count": 46,
   "metadata": {},
   "outputs": [
    {
     "name": "stdout",
     "output_type": "stream",
     "text": [
      "Modelo treinado de forma direta:\n",
      "Acurácia: 0.94\n",
      "Matrix de confusao:\n",
      "=====\n",
      "Modelo treinado com kfold:\n",
      "Acurácia: 0.9825\n",
      "Matrix de confusao:\n",
      "=====\n"
     ]
    },
    {
     "data": {
      "image/png": "[encoded data removed]",
      "text/plain": [
       "<Figure size 432x288 with 1 Axes>"
      ]
     },
     "metadata": {
      "needs_background": "light"
     },
     "output_type": "display_data"
    },
    {
     "data": {
      "image/png": "[encoded data removed]",
      "text/plain": [
       "<Figure size 432x288 with 1 Axes>"
      ]
     },
     "metadata": {
      "needs_background": "light"
     },
     "output_type": "display_data"
    }
   ],
   "source": [
    "def printModelMetrics(accuracy, confusion_matrix):\n",
    "    print('Acurácia:', accuracy)\n",
    "    print('Matrix de confusao:')\n",
    "    plt.figure()\n",
    "    plt.imshow(confusion_matrix, interpolation='nearest', cmap=plt.cm.Greys)\n",
    "    print('=====')\n",
    "\n",
    "print('Modelo treinado de forma direta:')\n",
    "printModelMetrics(direct_model_accuracy, direct_model_confusion)\n",
    "\n",
    "print('Modelo treinado com kfold:')\n",
    "printModelMetrics(kfold_model_accuracy, kfold_model_confusion)"
   ]
  },
  {
   "cell_type": "markdown",
   "metadata": {},
   "source": [
    "## Questões"
   ]
  },
  {
   "cell_type": "markdown",
   "metadata": {},
   "source": [
    "### 1. O classificador escolhido por você obteve um bom desempenho em sua opinião? Por que?"
   ]
  },
  {
   "cell_type": "markdown",
   "metadata": {},
   "source": [
    "O classificador obteve desempenho superior a 90% em ambas as situações (forma direta e kfold). O desempenho alto se deve ao bom desempenho de redes neurais artificiais em problemas de visão computacional, como é o caso."
   ]
  },
  {
   "cell_type": "markdown",
   "metadata": {},
   "source": [
    "### 2. Além da acurácia e da matriz de confusão, quais métricas e recursos poderiam ser utilizados para avaliar o seu classificador?"
   ]
  },
  {
   "cell_type": "markdown",
   "metadata": {},
   "source": [
    "O F1 score, a revocação e a precisão podem ser utilizados na avaliação de classificadores."
   ]
  },
  {
   "cell_type": "markdown",
   "metadata": {},
   "source": [
    "### 3. O seu classificador obteve um desempenho notoriamente superior ou inferior para alguma das classes? Para qual(is)? Por que você acredita que isso ocorreu?"
   ]
  },
  {
   "cell_type": "markdown",
   "metadata": {},
   "source": [
    "Isso nao foi percebido avaliando as matrizes de confusão dos modelos."
   ]
  },
  {
   "cell_type": "markdown",
   "metadata": {},
   "source": [
    "### 4. O que se poderia fazer para melhorar o desempenho de seu classificador?"
   ]
  },
  {
   "cell_type": "markdown",
   "metadata": {},
   "source": [
    "Refinar os parâmetros de treinamento e a estrutura da rede, tais como o numero de iterações, quantidade de nós internos, quantidade de camadas internas, bem como os parâmetros que definem o treino, como a porcentagem de divisão dos dados em treino e teste, ou o numero de \"splits\" do KFold."
   ]
  },
  {
   "cell_type": "markdown",
   "metadata": {},
   "source": [
    "### 5. Se fosse utilizada apenas metade da base de dados deste exercício em vez de ela toda, mas mantendo as proporções para os dados de treinamento e teste, os resultados sofreriam alguma mudança significativa? Se sim, quais e em qual intensidade?"
   ]
  },
  {
   "cell_type": "markdown",
   "metadata": {},
   "source": [
    "Provavelmente sim, uma vez que o model teria menos dados para ser treinado. Assim, o desempenho provavelmente seria inferior."
   ]
  },
  {
   "cell_type": "markdown",
   "metadata": {},
   "source": [
    "### 6. Para quê servem métodos como k-Fold e Bootstrap? Você observou alguma mudança significativa por conta de sua utilização? Se sim, qual? E a quê se deve isso?"
   ]
  },
  {
   "cell_type": "markdown",
   "metadata": {},
   "source": [
    "Os métodos servem para aumentar a performance de um modelo preditor/classificador. No caso, foi percebido um aumento na performance do preditor ao usar o KFold, visualizado através de um valor de acurácia maior. Isso se deve à maior quantidade de iterações de treino feita pelo modelo."
   ]
  },
  {
   "cell_type": "markdown",
   "metadata": {},
   "source": [
    "## Referências"
   ]
  },
  {
   "cell_type": "markdown",
   "metadata": {},
   "source": [
    "[Scikit-Learn - Datasets - Olivetti Faces](http://scikit-learn.org/stable/modules/generated/sklearn.datasets.fetch_olivetti_faces.html)\n",
    "\n",
    "[Matplotlib - Pyplot](https://matplotlib.org/api/pyplot_summary.html)\n",
    "\n",
    "[Numpy](https://docs.scipy.org/doc/numpy/reference/)\n",
    "\n",
    "[Scikit-Learn - Train, Test and Split](http://scikit-learn.org/stable/modules/generated/sklearn.model_selection.train_test_split.html)\n",
    "\n",
    "[Scikit-Learn - KFold](http://scikit-learn.org/stable/modules/generated/sklearn.model_selection.KFold.html#sklearn.model_selection.KFold)\n",
    "\n",
    "[Scikit-Learn - Resample (Bootstrap)](http://scikit-learn.org/stable/modules/generated/sklearn.utils.resample.html)\n",
    "\n",
    "[Scikit-Learn - KNeighborsClassifier](http://scikit-learn.org/stable/modules/generated/sklearn.neighbors.KNeighborsClassifier.html)\n",
    "\n",
    "[Scikit-Learn - DecisionTreeClassifier](http://scikit-learn.org/stable/modules/generated/sklearn.tree.DecisionTreeClassifier.html)\n",
    "\n",
    "[Scikit-Learn - LinearDiscriminantAnalysis](http://scikit-learn.org/stable/modules/generated/sklearn.discriminant_analysis.LinearDiscriminantAnalysis.html)\n",
    "\n",
    "[Scikit-Learn - LinearSVC](http://scikit-learn.org/stable/modules/generated/sklearn.svm.LinearSVC.html#sklearn.svm.LinearSVC)\n",
    "\n",
    "[Scikit-Learn - MLPClassifier](http://scikit-learn.org/stable/modules/generated/sklearn.neural_network.MLPClassifier.html#sklearn.neural_network.MLPClassifier)\n",
    "\n",
    "[Scikit-Learn - Accuracy Score](http://scikit-learn.org/stable/modules/generated/sklearn.metrics.accuracy_score.html)\n",
    "\n",
    "[Scikit-Learn - Confusion Matrix](http://scikit-learn.org/stable/modules/generated/sklearn.metrics.confusion_matrix.html)"
   ]
  },
  {
   "cell_type": "code",
   "execution_count": null,
   "metadata": {},
   "outputs": [],
   "source": []
  }
 ],
 "metadata": {
  "kernelspec": {
   "display_name": "Python 3",
   "language": "python",
   "name": "python3"
  },
  "language_info": {
   "codemirror_mode": {
    "name": "ipython",
    "version": 3
   },
   "file_extension": ".py",
   "mimetype": "text/x-python",
   "name": "python",
   "nbconvert_exporter": "python",
   "pygments_lexer": "ipython3",
   "version": "3.6.8"
  }
 },
 "nbformat": 4,
 "nbformat_minor": 2
}
